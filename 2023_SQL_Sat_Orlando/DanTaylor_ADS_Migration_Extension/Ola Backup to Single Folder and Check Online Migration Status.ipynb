{
    "metadata": {
        "kernelspec": {
            "name": "SQL",
            "display_name": "SQL",
            "language": "sql"
        },
        "language_info": {
            "name": "sql",
            "version": ""
        }
    },
    "nbformat_minor": 2,
    "nbformat": 4,
    "cells": [
        {
            "cell_type": "markdown",
            "source": [
                "Full Backup to URL utilizing Ola Hallengren DB backup maintenance scripts.\n",
                "\n",
                "<span style=\"color: var(--vscode-foreground);\">https://ola.hallengren.com/sql-server-backup.html</span>"
            ],
            "metadata": {
                "azdata_cell_guid": "b378c977-b36f-4b1a-9e1b-7bb987a50747"
            },
            "attachments": {}
        },
        {
            "cell_type": "code",
            "source": [
                "EXECUTE [dbo].[DatabaseBackup]\r\n",
                "@Databases = 'StackOverflowLarge',\r\n",
                "@BackupType = 'FULL',\r\n",
                "@Compress='Y',\r\n",
                "@DirectoryStructure = NULL,\r\n",
                "@Url='https://dataybackupstorage.blob.core.windows.net/stackoverflowlarge',\r\n",
                "@NumberOfFiles = 4,\r\n",
                "@BlockSize=65536,\r\n",
                "@MaxTransferSize=4194304"
            ],
            "metadata": {
                "azdata_cell_guid": "2212c005-6ab6-41fc-8091-9331a1baec02",
                "language": "sql",
                "tags": []
            },
            "outputs": [],
            "execution_count": null
        },
        {
            "cell_type": "markdown",
            "source": [
                "Differential Backup to URL <span style=\"color: var(--vscode-foreground);\">utilizing Ola Hallengren&nbsp;DB backup maintenance scripts.</span>\n",
                "\n",
                "<span style=\"color: var(--vscode-foreground);\">https://ola.hallengren.com/sql-server-backup.html</span>"
            ],
            "metadata": {
                "azdata_cell_guid": "319e86f2-dd69-490e-9650-b35b141a664d"
            },
            "attachments": {}
        },
        {
            "cell_type": "code",
            "source": [
                "EXECUTE [dbo].[DatabaseBackup]\r\n",
                "@Databases = 'StackOverflowLarge',\r\n",
                "@BackupType = 'DIFF',\r\n",
                "@Compress='Y',\r\n",
                "@DirectoryStructure = NULL,\r\n",
                "@Url='https://dataybackupstorage.blob.core.windows.net/stackoverflowlarge'"
            ],
            "metadata": {
                "azdata_cell_guid": "46125e19-4138-4595-af1c-772a2b08925f",
                "language": "sql",
                "tags": []
            },
            "outputs": [],
            "execution_count": null
        },
        {
            "cell_type": "markdown",
            "source": [
                "Log Backup to URL <span style=\"color: var(--vscode-foreground);\">utilizing Ola Hallengren&nbsp;DB backup maintenance scripts.</span>\n",
                "\n",
                "<span style=\"color: var(--vscode-foreground);\">https://ola.hallengren.com/sql-server-backup.html</span>"
            ],
            "metadata": {
                "azdata_cell_guid": "1aafd45b-85d2-4e33-838d-28654755c39e"
            },
            "attachments": {}
        },
        {
            "cell_type": "code",
            "source": [
                "EXECUTE [dbo].[DatabaseBackup]\r\n",
                "@Databases = 'StackOverflowLarge',\r\n",
                "@BackupType = 'LOG',\r\n",
                "@Compress='Y',\r\n",
                "@DirectoryStructure = NULL,\r\n",
                "@Url='https://dataybackupstorage.blob.core.windows.net/stackoverflowlarge'"
            ],
            "metadata": {
                "azdata_cell_guid": "a186e06d-7007-40b8-b089-80cba7d015a7",
                "language": "sql",
                "tags": []
            },
            "outputs": [],
            "execution_count": null
        },
        {
            "cell_type": "markdown",
            "source": [
                "Check Restore Status of databases being restored to MI. Execiuted against managed instance we are restoring to."
            ],
            "metadata": {
                "azdata_cell_guid": "cb944c03-1b51-4288-88d3-064a18163389"
            },
            "attachments": {}
        },
        {
            "cell_type": "code",
            "source": [
                "select percent_complete,* from sys.dm_exec_requests\r\n",
                "where command like 'Restore Database%'\r\n",
                "\r\n",
                ""
            ],
            "metadata": {
                "azdata_cell_guid": "74b1b422-3f67-4966-be86-154ec138d219",
                "language": "sql",
                "tags": []
            },
            "outputs": [
                {
                    "output_type": "display_data",
                    "data": {
                        "text/html": "(0 rows affected)"
                    },
                    "metadata": {}
                },
                {
                    "output_type": "display_data",
                    "data": {
                        "text/html": "Total execution time: 00:00:00.020"
                    },
                    "metadata": {}
                },
                {
                    "output_type": "execute_result",
                    "execution_count": 22,
                    "data": {
                        "application/vnd.dataresource+json": {
                            "schema": {
                                "fields": [
                                    {
                                        "name": "percent_complete"
                                    },
                                    {
                                        "name": "session_id"
                                    },
                                    {
                                        "name": "request_id"
                                    },
                                    {
                                        "name": "start_time"
                                    },
                                    {
                                        "name": "status"
                                    },
                                    {
                                        "name": "command"
                                    },
                                    {
                                        "name": "sql_handle"
                                    },
                                    {
                                        "name": "statement_start_offset"
                                    },
                                    {
                                        "name": "statement_end_offset"
                                    },
                                    {
                                        "name": "plan_handle"
                                    },
                                    {
                                        "name": "database_id"
                                    },
                                    {
                                        "name": "user_id"
                                    },
                                    {
                                        "name": "connection_id"
                                    },
                                    {
                                        "name": "blocking_session_id"
                                    },
                                    {
                                        "name": "wait_type"
                                    },
                                    {
                                        "name": "wait_time"
                                    },
                                    {
                                        "name": "last_wait_type"
                                    },
                                    {
                                        "name": "wait_resource"
                                    },
                                    {
                                        "name": "open_transaction_count"
                                    },
                                    {
                                        "name": "open_resultset_count"
                                    },
                                    {
                                        "name": "transaction_id"
                                    },
                                    {
                                        "name": "context_info"
                                    },
                                    {
                                        "name": "percent_complete"
                                    },
                                    {
                                        "name": "estimated_completion_time"
                                    },
                                    {
                                        "name": "cpu_time"
                                    },
                                    {
                                        "name": "total_elapsed_time"
                                    },
                                    {
                                        "name": "scheduler_id"
                                    },
                                    {
                                        "name": "task_address"
                                    },
                                    {
                                        "name": "reads"
                                    },
                                    {
                                        "name": "writes"
                                    },
                                    {
                                        "name": "logical_reads"
                                    },
                                    {
                                        "name": "text_size"
                                    },
                                    {
                                        "name": "language"
                                    },
                                    {
                                        "name": "date_format"
                                    },
                                    {
                                        "name": "date_first"
                                    },
                                    {
                                        "name": "quoted_identifier"
                                    },
                                    {
                                        "name": "arithabort"
                                    },
                                    {
                                        "name": "ansi_null_dflt_on"
                                    },
                                    {
                                        "name": "ansi_defaults"
                                    },
                                    {
                                        "name": "ansi_warnings"
                                    },
                                    {
                                        "name": "ansi_padding"
                                    },
                                    {
                                        "name": "ansi_nulls"
                                    },
                                    {
                                        "name": "concat_null_yields_null"
                                    },
                                    {
                                        "name": "transaction_isolation_level"
                                    },
                                    {
                                        "name": "lock_timeout"
                                    },
                                    {
                                        "name": "deadlock_priority"
                                    },
                                    {
                                        "name": "row_count"
                                    },
                                    {
                                        "name": "prev_error"
                                    },
                                    {
                                        "name": "nest_level"
                                    },
                                    {
                                        "name": "granted_query_memory"
                                    },
                                    {
                                        "name": "executing_managed_code"
                                    },
                                    {
                                        "name": "group_id"
                                    },
                                    {
                                        "name": "query_hash"
                                    },
                                    {
                                        "name": "query_plan_hash"
                                    },
                                    {
                                        "name": "statement_sql_handle"
                                    },
                                    {
                                        "name": "statement_context_id"
                                    },
                                    {
                                        "name": "dop"
                                    },
                                    {
                                        "name": "parallel_worker_count"
                                    },
                                    {
                                        "name": "external_script_request_id"
                                    },
                                    {
                                        "name": "is_resumable"
                                    },
                                    {
                                        "name": "page_resource"
                                    },
                                    {
                                        "name": "page_server_reads"
                                    },
                                    {
                                        "name": "dist_statement_id"
                                    },
                                    {
                                        "name": "label"
                                    }
                                ]
                            },
                            "data": []
                        },
                        "text/html": "<table><tr><th>percent_complete</th><th>session_id</th><th>request_id</th><th>start_time</th><th>status</th><th>command</th><th>sql_handle</th><th>statement_start_offset</th><th>statement_end_offset</th><th>plan_handle</th><th>database_id</th><th>user_id</th><th>connection_id</th><th>blocking_session_id</th><th>wait_type</th><th>wait_time</th><th>last_wait_type</th><th>wait_resource</th><th>open_transaction_count</th><th>open_resultset_count</th><th>transaction_id</th><th>context_info</th><th>percent_complete</th><th>estimated_completion_time</th><th>cpu_time</th><th>total_elapsed_time</th><th>scheduler_id</th><th>task_address</th><th>reads</th><th>writes</th><th>logical_reads</th><th>text_size</th><th>language</th><th>date_format</th><th>date_first</th><th>quoted_identifier</th><th>arithabort</th><th>ansi_null_dflt_on</th><th>ansi_defaults</th><th>ansi_warnings</th><th>ansi_padding</th><th>ansi_nulls</th><th>concat_null_yields_null</th><th>transaction_isolation_level</th><th>lock_timeout</th><th>deadlock_priority</th><th>row_count</th><th>prev_error</th><th>nest_level</th><th>granted_query_memory</th><th>executing_managed_code</th><th>group_id</th><th>query_hash</th><th>query_plan_hash</th><th>statement_sql_handle</th><th>statement_context_id</th><th>dop</th><th>parallel_worker_count</th><th>external_script_request_id</th><th>is_resumable</th><th>page_resource</th><th>page_server_reads</th><th>dist_statement_id</th><th>label</th></tr></table>"
                    },
                    "metadata": {}
                }
            ],
            "execution_count": 22
        },
        {
            "cell_type": "markdown",
            "source": [
                "Check Seeding Status <span style=\"color: var(--vscode-foreground);\">of databases during cutover of the online migration.&nbsp;</span>"
            ],
            "metadata": {
                "language": "sql",
                "azdata_cell_guid": "dc54e366-9533-492b-90c6-a75ab4511dea"
            },
            "attachments": {}
        },
        {
            "cell_type": "code",
            "source": [
                "select a.name,b.internal_state_desc,b.start_time_utc,b.estimate_time_complete_utc,* from sys.dm_hadr_physical_seeding_stats b \r\n",
                "join sys.databases a on a.physical_database_name = b.local_database_name\r\n",
                ""
            ],
            "metadata": {
                "language": "sql",
                "azdata_cell_guid": "bb94abe2-2523-4fa8-b64b-1aaf01948f6f",
                "tags": []
            },
            "outputs": [
                {
                    "output_type": "display_data",
                    "data": {
                        "text/html": "(3 rows affected)"
                    },
                    "metadata": {}
                },
                {
                    "output_type": "display_data",
                    "data": {
                        "text/html": "Total execution time: 00:00:00.046"
                    },
                    "metadata": {}
                },
                {
                    "output_type": "execute_result",
                    "execution_count": 64,
                    "data": {
                        "application/vnd.dataresource+json": {
                            "schema": {
                                "fields": [
                                    {
                                        "name": "name"
                                    },
                                    {
                                        "name": "internal_state_desc"
                                    },
                                    {
                                        "name": "start_time_utc"
                                    },
                                    {
                                        "name": "estimate_time_complete_utc"
                                    },
                                    {
                                        "name": "local_physical_seeding_id"
                                    },
                                    {
                                        "name": "remote_physical_seeding_id"
                                    },
                                    {
                                        "name": "local_database_id"
                                    },
                                    {
                                        "name": "local_database_name"
                                    },
                                    {
                                        "name": "remote_machine_name"
                                    },
                                    {
                                        "name": "role_desc"
                                    },
                                    {
                                        "name": "internal_state_desc"
                                    },
                                    {
                                        "name": "transfer_rate_bytes_per_second"
                                    },
                                    {
                                        "name": "transferred_size_bytes"
                                    },
                                    {
                                        "name": "database_size_bytes"
                                    },
                                    {
                                        "name": "start_time_utc"
                                    },
                                    {
                                        "name": "end_time_utc"
                                    },
                                    {
                                        "name": "estimate_time_complete_utc"
                                    },
                                    {
                                        "name": "total_disk_io_wait_time_ms"
                                    },
                                    {
                                        "name": "total_network_wait_time_ms"
                                    },
                                    {
                                        "name": "failure_code"
                                    },
                                    {
                                        "name": "failure_message"
                                    },
                                    {
                                        "name": "failure_time_utc"
                                    },
                                    {
                                        "name": "is_compression_enabled"
                                    },
                                    {
                                        "name": "name"
                                    },
                                    {
                                        "name": "database_id"
                                    },
                                    {
                                        "name": "source_database_id"
                                    },
                                    {
                                        "name": "owner_sid"
                                    },
                                    {
                                        "name": "create_date"
                                    },
                                    {
                                        "name": "compatibility_level"
                                    },
                                    {
                                        "name": "collation_name"
                                    },
                                    {
                                        "name": "user_access"
                                    },
                                    {
                                        "name": "user_access_desc"
                                    },
                                    {
                                        "name": "is_read_only"
                                    },
                                    {
                                        "name": "is_auto_close_on"
                                    },
                                    {
                                        "name": "is_auto_shrink_on"
                                    },
                                    {
                                        "name": "state"
                                    },
                                    {
                                        "name": "state_desc"
                                    },
                                    {
                                        "name": "is_in_standby"
                                    },
                                    {
                                        "name": "is_cleanly_shutdown"
                                    },
                                    {
                                        "name": "is_supplemental_logging_enabled"
                                    },
                                    {
                                        "name": "snapshot_isolation_state"
                                    },
                                    {
                                        "name": "snapshot_isolation_state_desc"
                                    },
                                    {
                                        "name": "is_read_committed_snapshot_on"
                                    },
                                    {
                                        "name": "recovery_model"
                                    },
                                    {
                                        "name": "recovery_model_desc"
                                    },
                                    {
                                        "name": "page_verify_option"
                                    },
                                    {
                                        "name": "page_verify_option_desc"
                                    },
                                    {
                                        "name": "is_auto_create_stats_on"
                                    },
                                    {
                                        "name": "is_auto_create_stats_incremental_on"
                                    },
                                    {
                                        "name": "is_auto_update_stats_on"
                                    },
                                    {
                                        "name": "is_auto_update_stats_async_on"
                                    },
                                    {
                                        "name": "is_ansi_null_default_on"
                                    },
                                    {
                                        "name": "is_ansi_nulls_on"
                                    },
                                    {
                                        "name": "is_ansi_padding_on"
                                    },
                                    {
                                        "name": "is_ansi_warnings_on"
                                    },
                                    {
                                        "name": "is_arithabort_on"
                                    },
                                    {
                                        "name": "is_concat_null_yields_null_on"
                                    },
                                    {
                                        "name": "is_numeric_roundabort_on"
                                    },
                                    {
                                        "name": "is_quoted_identifier_on"
                                    },
                                    {
                                        "name": "is_recursive_triggers_on"
                                    },
                                    {
                                        "name": "is_cursor_close_on_commit_on"
                                    },
                                    {
                                        "name": "is_local_cursor_default"
                                    },
                                    {
                                        "name": "is_fulltext_enabled"
                                    },
                                    {
                                        "name": "is_trustworthy_on"
                                    },
                                    {
                                        "name": "is_db_chaining_on"
                                    },
                                    {
                                        "name": "is_parameterization_forced"
                                    },
                                    {
                                        "name": "is_master_key_encrypted_by_server"
                                    },
                                    {
                                        "name": "is_query_store_on"
                                    },
                                    {
                                        "name": "is_published"
                                    },
                                    {
                                        "name": "is_subscribed"
                                    },
                                    {
                                        "name": "is_merge_published"
                                    },
                                    {
                                        "name": "is_distributor"
                                    },
                                    {
                                        "name": "is_sync_with_backup"
                                    },
                                    {
                                        "name": "service_broker_guid"
                                    },
                                    {
                                        "name": "is_broker_enabled"
                                    },
                                    {
                                        "name": "log_reuse_wait"
                                    },
                                    {
                                        "name": "log_reuse_wait_desc"
                                    },
                                    {
                                        "name": "is_date_correlation_on"
                                    },
                                    {
                                        "name": "is_cdc_enabled"
                                    },
                                    {
                                        "name": "is_encrypted"
                                    },
                                    {
                                        "name": "is_honor_broker_priority_on"
                                    },
                                    {
                                        "name": "replica_id"
                                    },
                                    {
                                        "name": "group_database_id"
                                    },
                                    {
                                        "name": "resource_pool_id"
                                    },
                                    {
                                        "name": "default_language_lcid"
                                    },
                                    {
                                        "name": "default_language_name"
                                    },
                                    {
                                        "name": "default_fulltext_language_lcid"
                                    },
                                    {
                                        "name": "default_fulltext_language_name"
                                    },
                                    {
                                        "name": "is_nested_triggers_on"
                                    },
                                    {
                                        "name": "is_transform_noise_words_on"
                                    },
                                    {
                                        "name": "two_digit_year_cutoff"
                                    },
                                    {
                                        "name": "containment"
                                    },
                                    {
                                        "name": "containment_desc"
                                    },
                                    {
                                        "name": "target_recovery_time_in_seconds"
                                    },
                                    {
                                        "name": "delayed_durability"
                                    },
                                    {
                                        "name": "delayed_durability_desc"
                                    },
                                    {
                                        "name": "is_memory_optimized_elevate_to_snapshot_on"
                                    },
                                    {
                                        "name": "is_federation_member"
                                    },
                                    {
                                        "name": "is_remote_data_archive_enabled"
                                    },
                                    {
                                        "name": "is_mixed_page_allocation_on"
                                    },
                                    {
                                        "name": "is_temporal_history_retention_enabled"
                                    },
                                    {
                                        "name": "catalog_collation_type"
                                    },
                                    {
                                        "name": "catalog_collation_type_desc"
                                    },
                                    {
                                        "name": "physical_database_name"
                                    },
                                    {
                                        "name": "is_result_set_caching_on"
                                    },
                                    {
                                        "name": "is_accelerated_database_recovery_on"
                                    },
                                    {
                                        "name": "is_tempdb_spill_to_remote_store"
                                    },
                                    {
                                        "name": "is_stale_page_detection_on"
                                    },
                                    {
                                        "name": "is_memory_optimized_enabled"
                                    },
                                    {
                                        "name": "is_data_retention_enabled"
                                    },
                                    {
                                        "name": "is_ledger_on"
                                    },
                                    {
                                        "name": "is_change_feed_enabled"
                                    }
                                ]
                            },
                            "data": [
                                {
                                    "name": "stackoverflowlarge_CLI",
                                    "internal_state_desc": "Success",
                                    "start_time_utc": "2023-09-06 03:31:18.323",
                                    "estimate_time_complete_utc": "2023-09-06 03:48:31.037",
                                    "local_physical_seeding_id": "6e6ae22d-f635-409b-a7f3-ae8168837ad3",
                                    "remote_physical_seeding_id": "b119660a-5476-4856-80f3-126278dc898b",
                                    "local_database_id": "7",
                                    "local_database_name": "8c002c25-d0aa-427c-9a85-1420f1404790",
                                    "remote_machine_name": "tcp://10.6.0.12:11007;Encryption=[false]",
                                    "role_desc": "Source",
                                    "transfer_rate_bytes_per_second": "441500094",
                                    "transferred_size_bytes": "454745097728",
                                    "database_size_bytes": "456509751296",
                                    "end_time_utc": "2023-09-06 03:48:28.037",
                                    "total_disk_io_wait_time_ms": "882256",
                                    "total_network_wait_time_ms": "0",
                                    "failure_code": "0",
                                    "failure_message": "NULL",
                                    "failure_time_utc": "NULL",
                                    "is_compression_enabled": "0",
                                    "database_id": "7",
                                    "source_database_id": "NULL",
                                    "owner_sid": "0x010100000000000512000000",
                                    "create_date": "2023-09-05 23:05:24.853",
                                    "compatibility_level": "130",
                                    "collation_name": "SQL_Latin1_General_CP1_CI_AS",
                                    "user_access": "0",
                                    "user_access_desc": "MULTI_USER",
                                    "is_read_only": "0",
                                    "is_auto_close_on": "0",
                                    "is_auto_shrink_on": "0",
                                    "state": "0",
                                    "state_desc": "ONLINE",
                                    "is_in_standby": "0",
                                    "is_cleanly_shutdown": "0",
                                    "is_supplemental_logging_enabled": "0",
                                    "snapshot_isolation_state": "0",
                                    "snapshot_isolation_state_desc": "OFF",
                                    "is_read_committed_snapshot_on": "0",
                                    "recovery_model": "1",
                                    "recovery_model_desc": "FULL",
                                    "page_verify_option": "2",
                                    "page_verify_option_desc": "CHECKSUM",
                                    "is_auto_create_stats_on": "1",
                                    "is_auto_create_stats_incremental_on": "0",
                                    "is_auto_update_stats_on": "1",
                                    "is_auto_update_stats_async_on": "0",
                                    "is_ansi_null_default_on": "0",
                                    "is_ansi_nulls_on": "0",
                                    "is_ansi_padding_on": "0",
                                    "is_ansi_warnings_on": "0",
                                    "is_arithabort_on": "0",
                                    "is_concat_null_yields_null_on": "0",
                                    "is_numeric_roundabort_on": "0",
                                    "is_quoted_identifier_on": "0",
                                    "is_recursive_triggers_on": "0",
                                    "is_cursor_close_on_commit_on": "0",
                                    "is_local_cursor_default": "0",
                                    "is_fulltext_enabled": "1",
                                    "is_trustworthy_on": "0",
                                    "is_db_chaining_on": "0",
                                    "is_parameterization_forced": "0",
                                    "is_master_key_encrypted_by_server": "0",
                                    "is_query_store_on": "1",
                                    "is_published": "0",
                                    "is_subscribed": "0",
                                    "is_merge_published": "0",
                                    "is_distributor": "0",
                                    "is_sync_with_backup": "0",
                                    "service_broker_guid": "8c002c25-d0aa-427c-9a85-1420f1404790",
                                    "is_broker_enabled": "1",
                                    "log_reuse_wait": "0",
                                    "log_reuse_wait_desc": "NOTHING",
                                    "is_date_correlation_on": "0",
                                    "is_cdc_enabled": "0",
                                    "is_encrypted": "0",
                                    "is_honor_broker_priority_on": "0",
                                    "replica_id": "NULL",
                                    "group_database_id": "NULL",
                                    "resource_pool_id": "NULL",
                                    "default_language_lcid": "NULL",
                                    "default_language_name": "NULL",
                                    "default_fulltext_language_lcid": "NULL",
                                    "default_fulltext_language_name": "NULL",
                                    "is_nested_triggers_on": "NULL",
                                    "is_transform_noise_words_on": "NULL",
                                    "two_digit_year_cutoff": "NULL",
                                    "containment": "0",
                                    "containment_desc": "NONE",
                                    "target_recovery_time_in_seconds": "60",
                                    "delayed_durability": "0",
                                    "delayed_durability_desc": "DISABLED",
                                    "is_memory_optimized_elevate_to_snapshot_on": "0",
                                    "is_federation_member": "0",
                                    "is_remote_data_archive_enabled": "0",
                                    "is_mixed_page_allocation_on": "0",
                                    "is_temporal_history_retention_enabled": "0",
                                    "catalog_collation_type": "0",
                                    "catalog_collation_type_desc": "DATABASE_DEFAULT",
                                    "physical_database_name": "8c002c25-d0aa-427c-9a85-1420f1404790",
                                    "is_result_set_caching_on": "0",
                                    "is_accelerated_database_recovery_on": "1",
                                    "is_tempdb_spill_to_remote_store": "0",
                                    "is_stale_page_detection_on": "0",
                                    "is_memory_optimized_enabled": "1",
                                    "is_data_retention_enabled": "0",
                                    "is_ledger_on": "0",
                                    "is_change_feed_enabled": "0"
                                },
                                {
                                    "name": "stackoverflowlarge_CLI",
                                    "internal_state_desc": "Success",
                                    "start_time_utc": "2023-09-06 03:31:18.533",
                                    "estimate_time_complete_utc": "2023-09-06 03:44:43.877",
                                    "local_physical_seeding_id": "4cf8f154-43e6-4b9a-9d47-da47be0cbb22",
                                    "remote_physical_seeding_id": "2421812d-3df5-4cec-88bf-2cdfad7980d3",
                                    "local_database_id": "7",
                                    "local_database_name": "8c002c25-d0aa-427c-9a85-1420f1404790",
                                    "remote_machine_name": "tcp://10.6.0.16:11007;Encryption=[false]",
                                    "role_desc": "Source",
                                    "transfer_rate_bytes_per_second": "567011140",
                                    "transferred_size_bytes": "454742935040",
                                    "database_size_bytes": "456509751296",
                                    "end_time_utc": "2023-09-06 03:44:40.877",
                                    "total_disk_io_wait_time_ms": "603389",
                                    "total_network_wait_time_ms": "0",
                                    "failure_code": "0",
                                    "failure_message": "NULL",
                                    "failure_time_utc": "NULL",
                                    "is_compression_enabled": "0",
                                    "database_id": "7",
                                    "source_database_id": "NULL",
                                    "owner_sid": "0x010100000000000512000000",
                                    "create_date": "2023-09-05 23:05:24.853",
                                    "compatibility_level": "130",
                                    "collation_name": "SQL_Latin1_General_CP1_CI_AS",
                                    "user_access": "0",
                                    "user_access_desc": "MULTI_USER",
                                    "is_read_only": "0",
                                    "is_auto_close_on": "0",
                                    "is_auto_shrink_on": "0",
                                    "state": "0",
                                    "state_desc": "ONLINE",
                                    "is_in_standby": "0",
                                    "is_cleanly_shutdown": "0",
                                    "is_supplemental_logging_enabled": "0",
                                    "snapshot_isolation_state": "0",
                                    "snapshot_isolation_state_desc": "OFF",
                                    "is_read_committed_snapshot_on": "0",
                                    "recovery_model": "1",
                                    "recovery_model_desc": "FULL",
                                    "page_verify_option": "2",
                                    "page_verify_option_desc": "CHECKSUM",
                                    "is_auto_create_stats_on": "1",
                                    "is_auto_create_stats_incremental_on": "0",
                                    "is_auto_update_stats_on": "1",
                                    "is_auto_update_stats_async_on": "0",
                                    "is_ansi_null_default_on": "0",
                                    "is_ansi_nulls_on": "0",
                                    "is_ansi_padding_on": "0",
                                    "is_ansi_warnings_on": "0",
                                    "is_arithabort_on": "0",
                                    "is_concat_null_yields_null_on": "0",
                                    "is_numeric_roundabort_on": "0",
                                    "is_quoted_identifier_on": "0",
                                    "is_recursive_triggers_on": "0",
                                    "is_cursor_close_on_commit_on": "0",
                                    "is_local_cursor_default": "0",
                                    "is_fulltext_enabled": "1",
                                    "is_trustworthy_on": "0",
                                    "is_db_chaining_on": "0",
                                    "is_parameterization_forced": "0",
                                    "is_master_key_encrypted_by_server": "0",
                                    "is_query_store_on": "1",
                                    "is_published": "0",
                                    "is_subscribed": "0",
                                    "is_merge_published": "0",
                                    "is_distributor": "0",
                                    "is_sync_with_backup": "0",
                                    "service_broker_guid": "8c002c25-d0aa-427c-9a85-1420f1404790",
                                    "is_broker_enabled": "1",
                                    "log_reuse_wait": "0",
                                    "log_reuse_wait_desc": "NOTHING",
                                    "is_date_correlation_on": "0",
                                    "is_cdc_enabled": "0",
                                    "is_encrypted": "0",
                                    "is_honor_broker_priority_on": "0",
                                    "replica_id": "NULL",
                                    "group_database_id": "NULL",
                                    "resource_pool_id": "NULL",
                                    "default_language_lcid": "NULL",
                                    "default_language_name": "NULL",
                                    "default_fulltext_language_lcid": "NULL",
                                    "default_fulltext_language_name": "NULL",
                                    "is_nested_triggers_on": "NULL",
                                    "is_transform_noise_words_on": "NULL",
                                    "two_digit_year_cutoff": "NULL",
                                    "containment": "0",
                                    "containment_desc": "NONE",
                                    "target_recovery_time_in_seconds": "60",
                                    "delayed_durability": "0",
                                    "delayed_durability_desc": "DISABLED",
                                    "is_memory_optimized_elevate_to_snapshot_on": "0",
                                    "is_federation_member": "0",
                                    "is_remote_data_archive_enabled": "0",
                                    "is_mixed_page_allocation_on": "0",
                                    "is_temporal_history_retention_enabled": "0",
                                    "catalog_collation_type": "0",
                                    "catalog_collation_type_desc": "DATABASE_DEFAULT",
                                    "physical_database_name": "8c002c25-d0aa-427c-9a85-1420f1404790",
                                    "is_result_set_caching_on": "0",
                                    "is_accelerated_database_recovery_on": "1",
                                    "is_tempdb_spill_to_remote_store": "0",
                                    "is_stale_page_detection_on": "0",
                                    "is_memory_optimized_enabled": "1",
                                    "is_data_retention_enabled": "0",
                                    "is_ledger_on": "0",
                                    "is_change_feed_enabled": "0"
                                },
                                {
                                    "name": "stackoverflowlarge_CLI",
                                    "internal_state_desc": "Success",
                                    "start_time_utc": "2023-09-06 03:31:18.743",
                                    "estimate_time_complete_utc": "2023-09-06 03:44:55.317",
                                    "local_physical_seeding_id": "dee5532e-e2db-449b-8e43-b6dd881991a9",
                                    "remote_physical_seeding_id": "15b8bda2-6e35-48fe-b9d7-aeba454f3dee",
                                    "local_database_id": "7",
                                    "local_database_name": "8c002c25-d0aa-427c-9a85-1420f1404790",
                                    "remote_machine_name": "tcp://10.6.0.14:11007;Encryption=[false]",
                                    "role_desc": "Source",
                                    "transfer_rate_bytes_per_second": "558652254",
                                    "transferred_size_bytes": "454742935040",
                                    "database_size_bytes": "456509751296",
                                    "end_time_utc": "2023-09-06 03:44:52.317",
                                    "total_disk_io_wait_time_ms": "605910",
                                    "total_network_wait_time_ms": "19475",
                                    "failure_code": "0",
                                    "failure_message": "NULL",
                                    "failure_time_utc": "NULL",
                                    "is_compression_enabled": "0",
                                    "database_id": "7",
                                    "source_database_id": "NULL",
                                    "owner_sid": "0x010100000000000512000000",
                                    "create_date": "2023-09-05 23:05:24.853",
                                    "compatibility_level": "130",
                                    "collation_name": "SQL_Latin1_General_CP1_CI_AS",
                                    "user_access": "0",
                                    "user_access_desc": "MULTI_USER",
                                    "is_read_only": "0",
                                    "is_auto_close_on": "0",
                                    "is_auto_shrink_on": "0",
                                    "state": "0",
                                    "state_desc": "ONLINE",
                                    "is_in_standby": "0",
                                    "is_cleanly_shutdown": "0",
                                    "is_supplemental_logging_enabled": "0",
                                    "snapshot_isolation_state": "0",
                                    "snapshot_isolation_state_desc": "OFF",
                                    "is_read_committed_snapshot_on": "0",
                                    "recovery_model": "1",
                                    "recovery_model_desc": "FULL",
                                    "page_verify_option": "2",
                                    "page_verify_option_desc": "CHECKSUM",
                                    "is_auto_create_stats_on": "1",
                                    "is_auto_create_stats_incremental_on": "0",
                                    "is_auto_update_stats_on": "1",
                                    "is_auto_update_stats_async_on": "0",
                                    "is_ansi_null_default_on": "0",
                                    "is_ansi_nulls_on": "0",
                                    "is_ansi_padding_on": "0",
                                    "is_ansi_warnings_on": "0",
                                    "is_arithabort_on": "0",
                                    "is_concat_null_yields_null_on": "0",
                                    "is_numeric_roundabort_on": "0",
                                    "is_quoted_identifier_on": "0",
                                    "is_recursive_triggers_on": "0",
                                    "is_cursor_close_on_commit_on": "0",
                                    "is_local_cursor_default": "0",
                                    "is_fulltext_enabled": "1",
                                    "is_trustworthy_on": "0",
                                    "is_db_chaining_on": "0",
                                    "is_parameterization_forced": "0",
                                    "is_master_key_encrypted_by_server": "0",
                                    "is_query_store_on": "1",
                                    "is_published": "0",
                                    "is_subscribed": "0",
                                    "is_merge_published": "0",
                                    "is_distributor": "0",
                                    "is_sync_with_backup": "0",
                                    "service_broker_guid": "8c002c25-d0aa-427c-9a85-1420f1404790",
                                    "is_broker_enabled": "1",
                                    "log_reuse_wait": "0",
                                    "log_reuse_wait_desc": "NOTHING",
                                    "is_date_correlation_on": "0",
                                    "is_cdc_enabled": "0",
                                    "is_encrypted": "0",
                                    "is_honor_broker_priority_on": "0",
                                    "replica_id": "NULL",
                                    "group_database_id": "NULL",
                                    "resource_pool_id": "NULL",
                                    "default_language_lcid": "NULL",
                                    "default_language_name": "NULL",
                                    "default_fulltext_language_lcid": "NULL",
                                    "default_fulltext_language_name": "NULL",
                                    "is_nested_triggers_on": "NULL",
                                    "is_transform_noise_words_on": "NULL",
                                    "two_digit_year_cutoff": "NULL",
                                    "containment": "0",
                                    "containment_desc": "NONE",
                                    "target_recovery_time_in_seconds": "60",
                                    "delayed_durability": "0",
                                    "delayed_durability_desc": "DISABLED",
                                    "is_memory_optimized_elevate_to_snapshot_on": "0",
                                    "is_federation_member": "0",
                                    "is_remote_data_archive_enabled": "0",
                                    "is_mixed_page_allocation_on": "0",
                                    "is_temporal_history_retention_enabled": "0",
                                    "catalog_collation_type": "0",
                                    "catalog_collation_type_desc": "DATABASE_DEFAULT",
                                    "physical_database_name": "8c002c25-d0aa-427c-9a85-1420f1404790",
                                    "is_result_set_caching_on": "0",
                                    "is_accelerated_database_recovery_on": "1",
                                    "is_tempdb_spill_to_remote_store": "0",
                                    "is_stale_page_detection_on": "0",
                                    "is_memory_optimized_enabled": "1",
                                    "is_data_retention_enabled": "0",
                                    "is_ledger_on": "0",
                                    "is_change_feed_enabled": "0"
                                }
                            ]
                        },
                        "text/html": "<table><tr><th>name</th><th>internal_state_desc</th><th>start_time_utc</th><th>estimate_time_complete_utc</th><th>local_physical_seeding_id</th><th>remote_physical_seeding_id</th><th>local_database_id</th><th>local_database_name</th><th>remote_machine_name</th><th>role_desc</th><th>internal_state_desc</th><th>transfer_rate_bytes_per_second</th><th>transferred_size_bytes</th><th>database_size_bytes</th><th>start_time_utc</th><th>end_time_utc</th><th>estimate_time_complete_utc</th><th>total_disk_io_wait_time_ms</th><th>total_network_wait_time_ms</th><th>failure_code</th><th>failure_message</th><th>failure_time_utc</th><th>is_compression_enabled</th><th>name</th><th>database_id</th><th>source_database_id</th><th>owner_sid</th><th>create_date</th><th>compatibility_level</th><th>collation_name</th><th>user_access</th><th>user_access_desc</th><th>is_read_only</th><th>is_auto_close_on</th><th>is_auto_shrink_on</th><th>state</th><th>state_desc</th><th>is_in_standby</th><th>is_cleanly_shutdown</th><th>is_supplemental_logging_enabled</th><th>snapshot_isolation_state</th><th>snapshot_isolation_state_desc</th><th>is_read_committed_snapshot_on</th><th>recovery_model</th><th>recovery_model_desc</th><th>page_verify_option</th><th>page_verify_option_desc</th><th>is_auto_create_stats_on</th><th>is_auto_create_stats_incremental_on</th><th>is_auto_update_stats_on</th><th>is_auto_update_stats_async_on</th><th>is_ansi_null_default_on</th><th>is_ansi_nulls_on</th><th>is_ansi_padding_on</th><th>is_ansi_warnings_on</th><th>is_arithabort_on</th><th>is_concat_null_yields_null_on</th><th>is_numeric_roundabort_on</th><th>is_quoted_identifier_on</th><th>is_recursive_triggers_on</th><th>is_cursor_close_on_commit_on</th><th>is_local_cursor_default</th><th>is_fulltext_enabled</th><th>is_trustworthy_on</th><th>is_db_chaining_on</th><th>is_parameterization_forced</th><th>is_master_key_encrypted_by_server</th><th>is_query_store_on</th><th>is_published</th><th>is_subscribed</th><th>is_merge_published</th><th>is_distributor</th><th>is_sync_with_backup</th><th>service_broker_guid</th><th>is_broker_enabled</th><th>log_reuse_wait</th><th>log_reuse_wait_desc</th><th>is_date_correlation_on</th><th>is_cdc_enabled</th><th>is_encrypted</th><th>is_honor_broker_priority_on</th><th>replica_id</th><th>group_database_id</th><th>resource_pool_id</th><th>default_language_lcid</th><th>default_language_name</th><th>default_fulltext_language_lcid</th><th>default_fulltext_language_name</th><th>is_nested_triggers_on</th><th>is_transform_noise_words_on</th><th>two_digit_year_cutoff</th><th>containment</th><th>containment_desc</th><th>target_recovery_time_in_seconds</th><th>delayed_durability</th><th>delayed_durability_desc</th><th>is_memory_optimized_elevate_to_snapshot_on</th><th>is_federation_member</th><th>is_remote_data_archive_enabled</th><th>is_mixed_page_allocation_on</th><th>is_temporal_history_retention_enabled</th><th>catalog_collation_type</th><th>catalog_collation_type_desc</th><th>physical_database_name</th><th>is_result_set_caching_on</th><th>is_accelerated_database_recovery_on</th><th>is_tempdb_spill_to_remote_store</th><th>is_stale_page_detection_on</th><th>is_memory_optimized_enabled</th><th>is_data_retention_enabled</th><th>is_ledger_on</th><th>is_change_feed_enabled</th></tr><tr><td>stackoverflowlarge_CLI</td><td>Success</td><td>2023-09-06 03:31:18.323</td><td>2023-09-06 03:48:31.037</td><td>6e6ae22d-f635-409b-a7f3-ae8168837ad3</td><td>b119660a-5476-4856-80f3-126278dc898b</td><td>7</td><td>8c002c25-d0aa-427c-9a85-1420f1404790</td><td>tcp://10.6.0.12:11007;Encryption=[false]</td><td>Source</td><td>Success</td><td>441500094</td><td>454745097728</td><td>456509751296</td><td>2023-09-06 03:31:18.323</td><td>2023-09-06 03:48:28.037</td><td>2023-09-06 03:48:31.037</td><td>882256</td><td>0</td><td>0</td><td>NULL</td><td>NULL</td><td>0</td><td>stackoverflowlarge_CLI</td><td>7</td><td>NULL</td><td>0x010100000000000512000000</td><td>2023-09-05 23:05:24.853</td><td>130</td><td>SQL_Latin1_General_CP1_CI_AS</td><td>0</td><td>MULTI_USER</td><td>0</td><td>0</td><td>0</td><td>0</td><td>ONLINE</td><td>0</td><td>0</td><td>0</td><td>0</td><td>OFF</td><td>0</td><td>1</td><td>FULL</td><td>2</td><td>CHECKSUM</td><td>1</td><td>0</td><td>1</td><td>0</td><td>0</td><td>0</td><td>0</td><td>0</td><td>0</td><td>0</td><td>0</td><td>0</td><td>0</td><td>0</td><td>0</td><td>1</td><td>0</td><td>0</td><td>0</td><td>0</td><td>1</td><td>0</td><td>0</td><td>0</td><td>0</td><td>0</td><td>8c002c25-d0aa-427c-9a85-1420f1404790</td><td>1</td><td>0</td><td>NOTHING</td><td>0</td><td>0</td><td>0</td><td>0</td><td>NULL</td><td>NULL</td><td>NULL</td><td>NULL</td><td>NULL</td><td>NULL</td><td>NULL</td><td>NULL</td><td>NULL</td><td>NULL</td><td>0</td><td>NONE</td><td>60</td><td>0</td><td>DISABLED</td><td>0</td><td>0</td><td>0</td><td>0</td><td>0</td><td>0</td><td>DATABASE_DEFAULT</td><td>8c002c25-d0aa-427c-9a85-1420f1404790</td><td>0</td><td>1</td><td>0</td><td>0</td><td>1</td><td>0</td><td>0</td><td>0</td></tr><tr><td>stackoverflowlarge_CLI</td><td>Success</td><td>2023-09-06 03:31:18.533</td><td>2023-09-06 03:44:43.877</td><td>4cf8f154-43e6-4b9a-9d47-da47be0cbb22</td><td>2421812d-3df5-4cec-88bf-2cdfad7980d3</td><td>7</td><td>8c002c25-d0aa-427c-9a85-1420f1404790</td><td>tcp://10.6.0.16:11007;Encryption=[false]</td><td>Source</td><td>Success</td><td>567011140</td><td>454742935040</td><td>456509751296</td><td>2023-09-06 03:31:18.533</td><td>2023-09-06 03:44:40.877</td><td>2023-09-06 03:44:43.877</td><td>603389</td><td>0</td><td>0</td><td>NULL</td><td>NULL</td><td>0</td><td>stackoverflowlarge_CLI</td><td>7</td><td>NULL</td><td>0x010100000000000512000000</td><td>2023-09-05 23:05:24.853</td><td>130</td><td>SQL_Latin1_General_CP1_CI_AS</td><td>0</td><td>MULTI_USER</td><td>0</td><td>0</td><td>0</td><td>0</td><td>ONLINE</td><td>0</td><td>0</td><td>0</td><td>0</td><td>OFF</td><td>0</td><td>1</td><td>FULL</td><td>2</td><td>CHECKSUM</td><td>1</td><td>0</td><td>1</td><td>0</td><td>0</td><td>0</td><td>0</td><td>0</td><td>0</td><td>0</td><td>0</td><td>0</td><td>0</td><td>0</td><td>0</td><td>1</td><td>0</td><td>0</td><td>0</td><td>0</td><td>1</td><td>0</td><td>0</td><td>0</td><td>0</td><td>0</td><td>8c002c25-d0aa-427c-9a85-1420f1404790</td><td>1</td><td>0</td><td>NOTHING</td><td>0</td><td>0</td><td>0</td><td>0</td><td>NULL</td><td>NULL</td><td>NULL</td><td>NULL</td><td>NULL</td><td>NULL</td><td>NULL</td><td>NULL</td><td>NULL</td><td>NULL</td><td>0</td><td>NONE</td><td>60</td><td>0</td><td>DISABLED</td><td>0</td><td>0</td><td>0</td><td>0</td><td>0</td><td>0</td><td>DATABASE_DEFAULT</td><td>8c002c25-d0aa-427c-9a85-1420f1404790</td><td>0</td><td>1</td><td>0</td><td>0</td><td>1</td><td>0</td><td>0</td><td>0</td></tr><tr><td>stackoverflowlarge_CLI</td><td>Success</td><td>2023-09-06 03:31:18.743</td><td>2023-09-06 03:44:55.317</td><td>dee5532e-e2db-449b-8e43-b6dd881991a9</td><td>15b8bda2-6e35-48fe-b9d7-aeba454f3dee</td><td>7</td><td>8c002c25-d0aa-427c-9a85-1420f1404790</td><td>tcp://10.6.0.14:11007;Encryption=[false]</td><td>Source</td><td>Success</td><td>558652254</td><td>454742935040</td><td>456509751296</td><td>2023-09-06 03:31:18.743</td><td>2023-09-06 03:44:52.317</td><td>2023-09-06 03:44:55.317</td><td>605910</td><td>19475</td><td>0</td><td>NULL</td><td>NULL</td><td>0</td><td>stackoverflowlarge_CLI</td><td>7</td><td>NULL</td><td>0x010100000000000512000000</td><td>2023-09-05 23:05:24.853</td><td>130</td><td>SQL_Latin1_General_CP1_CI_AS</td><td>0</td><td>MULTI_USER</td><td>0</td><td>0</td><td>0</td><td>0</td><td>ONLINE</td><td>0</td><td>0</td><td>0</td><td>0</td><td>OFF</td><td>0</td><td>1</td><td>FULL</td><td>2</td><td>CHECKSUM</td><td>1</td><td>0</td><td>1</td><td>0</td><td>0</td><td>0</td><td>0</td><td>0</td><td>0</td><td>0</td><td>0</td><td>0</td><td>0</td><td>0</td><td>0</td><td>1</td><td>0</td><td>0</td><td>0</td><td>0</td><td>1</td><td>0</td><td>0</td><td>0</td><td>0</td><td>0</td><td>8c002c25-d0aa-427c-9a85-1420f1404790</td><td>1</td><td>0</td><td>NOTHING</td><td>0</td><td>0</td><td>0</td><td>0</td><td>NULL</td><td>NULL</td><td>NULL</td><td>NULL</td><td>NULL</td><td>NULL</td><td>NULL</td><td>NULL</td><td>NULL</td><td>NULL</td><td>0</td><td>NONE</td><td>60</td><td>0</td><td>DISABLED</td><td>0</td><td>0</td><td>0</td><td>0</td><td>0</td><td>0</td><td>DATABASE_DEFAULT</td><td>8c002c25-d0aa-427c-9a85-1420f1404790</td><td>0</td><td>1</td><td>0</td><td>0</td><td>1</td><td>0</td><td>0</td><td>0</td></tr></table>"
                    },
                    "metadata": {}
                }
            ],
            "execution_count": 64
        },
        {
            "cell_type": "markdown",
            "source": [
                "Check percent of sync"
            ],
            "metadata": {
                "language": "sql",
                "azdata_cell_guid": "95935a35-2e9c-4bc9-b1f4-39c23db7a7d6"
            },
            "attachments": {}
        },
        {
            "cell_type": "code",
            "source": [
                "select percent_complete,* from sys.dm_exec_requests\r\n",
                "where command like 'VDI%' and percent_complete > 0\r\n",
                ""
            ],
            "metadata": {
                "language": "sql",
                "azdata_cell_guid": "3d95b526-5c2e-48c1-be88-210f172e7a3b"
            },
            "outputs": [
                {
                    "output_type": "display_data",
                    "data": {
                        "text/html": "(0 rows affected)"
                    },
                    "metadata": {}
                },
                {
                    "output_type": "display_data",
                    "data": {
                        "text/html": "Total execution time: 00:00:00.016"
                    },
                    "metadata": {}
                },
                {
                    "output_type": "execute_result",
                    "execution_count": 63,
                    "data": {
                        "application/vnd.dataresource+json": {
                            "schema": {
                                "fields": [
                                    {
                                        "name": "percent_complete"
                                    },
                                    {
                                        "name": "session_id"
                                    },
                                    {
                                        "name": "request_id"
                                    },
                                    {
                                        "name": "start_time"
                                    },
                                    {
                                        "name": "status"
                                    },
                                    {
                                        "name": "command"
                                    },
                                    {
                                        "name": "sql_handle"
                                    },
                                    {
                                        "name": "statement_start_offset"
                                    },
                                    {
                                        "name": "statement_end_offset"
                                    },
                                    {
                                        "name": "plan_handle"
                                    },
                                    {
                                        "name": "database_id"
                                    },
                                    {
                                        "name": "user_id"
                                    },
                                    {
                                        "name": "connection_id"
                                    },
                                    {
                                        "name": "blocking_session_id"
                                    },
                                    {
                                        "name": "wait_type"
                                    },
                                    {
                                        "name": "wait_time"
                                    },
                                    {
                                        "name": "last_wait_type"
                                    },
                                    {
                                        "name": "wait_resource"
                                    },
                                    {
                                        "name": "open_transaction_count"
                                    },
                                    {
                                        "name": "open_resultset_count"
                                    },
                                    {
                                        "name": "transaction_id"
                                    },
                                    {
                                        "name": "context_info"
                                    },
                                    {
                                        "name": "percent_complete"
                                    },
                                    {
                                        "name": "estimated_completion_time"
                                    },
                                    {
                                        "name": "cpu_time"
                                    },
                                    {
                                        "name": "total_elapsed_time"
                                    },
                                    {
                                        "name": "scheduler_id"
                                    },
                                    {
                                        "name": "task_address"
                                    },
                                    {
                                        "name": "reads"
                                    },
                                    {
                                        "name": "writes"
                                    },
                                    {
                                        "name": "logical_reads"
                                    },
                                    {
                                        "name": "text_size"
                                    },
                                    {
                                        "name": "language"
                                    },
                                    {
                                        "name": "date_format"
                                    },
                                    {
                                        "name": "date_first"
                                    },
                                    {
                                        "name": "quoted_identifier"
                                    },
                                    {
                                        "name": "arithabort"
                                    },
                                    {
                                        "name": "ansi_null_dflt_on"
                                    },
                                    {
                                        "name": "ansi_defaults"
                                    },
                                    {
                                        "name": "ansi_warnings"
                                    },
                                    {
                                        "name": "ansi_padding"
                                    },
                                    {
                                        "name": "ansi_nulls"
                                    },
                                    {
                                        "name": "concat_null_yields_null"
                                    },
                                    {
                                        "name": "transaction_isolation_level"
                                    },
                                    {
                                        "name": "lock_timeout"
                                    },
                                    {
                                        "name": "deadlock_priority"
                                    },
                                    {
                                        "name": "row_count"
                                    },
                                    {
                                        "name": "prev_error"
                                    },
                                    {
                                        "name": "nest_level"
                                    },
                                    {
                                        "name": "granted_query_memory"
                                    },
                                    {
                                        "name": "executing_managed_code"
                                    },
                                    {
                                        "name": "group_id"
                                    },
                                    {
                                        "name": "query_hash"
                                    },
                                    {
                                        "name": "query_plan_hash"
                                    },
                                    {
                                        "name": "statement_sql_handle"
                                    },
                                    {
                                        "name": "statement_context_id"
                                    },
                                    {
                                        "name": "dop"
                                    },
                                    {
                                        "name": "parallel_worker_count"
                                    },
                                    {
                                        "name": "external_script_request_id"
                                    },
                                    {
                                        "name": "is_resumable"
                                    },
                                    {
                                        "name": "page_resource"
                                    },
                                    {
                                        "name": "page_server_reads"
                                    },
                                    {
                                        "name": "dist_statement_id"
                                    },
                                    {
                                        "name": "label"
                                    }
                                ]
                            },
                            "data": []
                        },
                        "text/html": "<table><tr><th>percent_complete</th><th>session_id</th><th>request_id</th><th>start_time</th><th>status</th><th>command</th><th>sql_handle</th><th>statement_start_offset</th><th>statement_end_offset</th><th>plan_handle</th><th>database_id</th><th>user_id</th><th>connection_id</th><th>blocking_session_id</th><th>wait_type</th><th>wait_time</th><th>last_wait_type</th><th>wait_resource</th><th>open_transaction_count</th><th>open_resultset_count</th><th>transaction_id</th><th>context_info</th><th>percent_complete</th><th>estimated_completion_time</th><th>cpu_time</th><th>total_elapsed_time</th><th>scheduler_id</th><th>task_address</th><th>reads</th><th>writes</th><th>logical_reads</th><th>text_size</th><th>language</th><th>date_format</th><th>date_first</th><th>quoted_identifier</th><th>arithabort</th><th>ansi_null_dflt_on</th><th>ansi_defaults</th><th>ansi_warnings</th><th>ansi_padding</th><th>ansi_nulls</th><th>concat_null_yields_null</th><th>transaction_isolation_level</th><th>lock_timeout</th><th>deadlock_priority</th><th>row_count</th><th>prev_error</th><th>nest_level</th><th>granted_query_memory</th><th>executing_managed_code</th><th>group_id</th><th>query_hash</th><th>query_plan_hash</th><th>statement_sql_handle</th><th>statement_context_id</th><th>dop</th><th>parallel_worker_count</th><th>external_script_request_id</th><th>is_resumable</th><th>page_resource</th><th>page_server_reads</th><th>dist_statement_id</th><th>label</th></tr></table>"
                    },
                    "metadata": {}
                }
            ],
            "execution_count": 63
        },
        {
            "cell_type": "markdown",
            "source": [
                ""
            ],
            "metadata": {
                "language": "sql",
                "azdata_cell_guid": "823fc761-d6b4-48d0-a0f1-19bd8de4727f"
            }
        },
        {
            "cell_type": "markdown",
            "source": [
                ""
            ],
            "metadata": {
                "language": "sql",
                "azdata_cell_guid": "e4dec7b7-eb83-4987-b553-3fd227e6bd4d"
            }
        },
        {
            "cell_type": "markdown",
            "source": [
                ""
            ],
            "metadata": {
                "language": "sql",
                "azdata_cell_guid": "32a9c766-4767-4536-ae55-8d13b14911ed"
            }
        },
        {
            "cell_type": "markdown",
            "source": [
                ""
            ],
            "metadata": {
                "language": "sql",
                "azdata_cell_guid": "51d56528-e51e-4a2c-8013-447e8e9c2972"
            }
        },
        {
            "cell_type": "markdown",
            "source": [
                ""
            ],
            "metadata": {
                "language": "sql",
                "azdata_cell_guid": "b420cc8c-6c0d-4019-8510-ecc4d582b47b"
            }
        },
        {
            "cell_type": "markdown",
            "source": [
                ""
            ],
            "metadata": {
                "language": "sql",
                "azdata_cell_guid": "7c3862c5-f5f3-4fef-aaf6-17b4ac0306d5"
            }
        }
    ]
}