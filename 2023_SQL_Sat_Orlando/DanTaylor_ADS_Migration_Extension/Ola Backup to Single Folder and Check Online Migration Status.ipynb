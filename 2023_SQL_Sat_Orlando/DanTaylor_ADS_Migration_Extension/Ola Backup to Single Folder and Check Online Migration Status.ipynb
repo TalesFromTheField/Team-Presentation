{
    "metadata": {
        "kernelspec": {
            "name": "SQL",
            "display_name": "SQL",
            "language": "sql"
        },
        "language_info": {
            "name": "sql",
            "version": ""
        }
    },
    "nbformat_minor": 2,
    "nbformat": 4,
    "cells": [
        {
            "cell_type": "markdown",
            "source": [
                "// Source via Baniel Taylor :: [datay@micrsoft.com](mailto:datay@micrsoft.com)\n",
                "\n",
                "// MIT License\n",
                "\n",
                "// Permission is hereby granted, free of charge, to any person obtaining a copy of this software and associated documentation files (the \"\"Software\"\"), to deal in the Software without restriction, including without limitation the rights to use, copy, modify, merge, publish, distribute, sublicense, and/or sell copies of the Software, and to permit persons to whom the Software is furnished to do so, subject to the following conditions: \n",
                "\n",
                "// The above copyright notice and this permission notice shall be included in all copies or substantial portions of the Software. \n",
                "\n",
                "// THE SOFTWARE IS PROVIDED \\*AS IS\\*, WITHOUT WARRANTY OF ANY KIND, EXPRESS OR IMPLIED, INCLUDING BUT NOT LIMITED TO THE WARRANTIES OF MERCHANTABILITY\n",
                "\n",
                "// Original source from the Azmaing Ola H<span style=\"color: var(--vscode-foreground);\">allengren</span><span style=\"color: var(--vscode-foreground);\">:&nbsp;<a href=\"https://ola.hallengren.com/sql-server-backup.html\" data-href=\"https://ola.hallengren.com/sql-server-backup.html\" title=\"https://ola.hallengren.com/sql-server-backup.html\" is-markdown=\"true\" is-absolute=\"false\">https://ola.hallengren.com/sql-server-backup.html</a></span>\n",
                "\n",
                "<span style=\"color: var(--vscode-foreground);\">// Ola's documentation details on how to setup backups to URL&nbsp;</span>  \n",
                "\n",
                "// Edits include adding backup to URL and Sending to a sending container\n",
                "\n",
                "// T-SQL Scripts to be executed against Managed Instance being migrated to come from Microsoft Online documents"
            ],
            "metadata": {
                "azdata_cell_guid": "7e3c9b6e-afdf-4de9-a4f9-ad1131de2c4f"
            },
            "attachments": {}
        },
        {
            "cell_type": "markdown",
            "source": [
                "Full Backup to URL utilizing Ola Hallengren DB backup maintenance scripts.\n",
                "\n",
                "<span style=\"color: var(--vscode-foreground);\">https://ola.hallengren.com/sql-server-backup.html</span>"
            ],
            "metadata": {
                "azdata_cell_guid": "b378c977-b36f-4b1a-9e1b-7bb987a50747"
            },
            "attachments": {}
        },
        {
            "cell_type": "code",
            "source": [
                "EXECUTE [dbo].[DatabaseBackup]\r\n",
                "@Databases = '{sourcedatabasename}',\r\n",
                "@BackupType = 'FULL',\r\n",
                "@Compress='Y',\r\n",
                "@DirectoryStructure = NULL,\r\n",
                "@Url='https://{yourstorageaccountname}.blob.core.windows.net/{containercontainingthisDBFullDiffsLogs}',\r\n",
                "@NumberOfFiles = 4,\r\n",
                "@BlockSize=65536,\r\n",
                "@MaxTransferSize=4194304"
            ],
            "metadata": {
                "azdata_cell_guid": "2212c005-6ab6-41fc-8091-9331a1baec02",
                "language": "sql",
                "tags": []
            },
            "outputs": [],
            "execution_count": null
        },
        {
            "cell_type": "markdown",
            "source": [
                "Differential Backup to URL <span style=\"color: var(--vscode-foreground);\">utilizing Ola Hallengren&nbsp;DB backup maintenance scripts.</span>\n",
                "\n",
                "<span style=\"color: var(--vscode-foreground);\">https://ola.hallengren.com/sql-server-backup.html</span>"
            ],
            "metadata": {
                "azdata_cell_guid": "319e86f2-dd69-490e-9650-b35b141a664d"
            },
            "attachments": {}
        },
        {
            "cell_type": "code",
            "source": [
                "EXECUTE [dbo].[DatabaseBackup]\r\n",
                "@Databases = '{sourcedatabasename}',\r\n",
                "@BackupType = 'DIFF',\r\n",
                "@Compress='Y',\r\n",
                "@DirectoryStructure = NULL,\r\n",
                "@Url='https://{yourstorageaccountname}.blob.core.windows.net/{containercontainingthisDBFullDiffsLogs}'"
            ],
            "metadata": {
                "azdata_cell_guid": "46125e19-4138-4595-af1c-772a2b08925f",
                "language": "sql",
                "tags": []
            },
            "outputs": [],
            "execution_count": null
        },
        {
            "cell_type": "markdown",
            "source": [
                "Log Backup to URL <span style=\"color: var(--vscode-foreground);\">utilizing Ola Hallengren&nbsp;DB backup maintenance scripts.</span>\n",
                "\n",
                "<span style=\"color: var(--vscode-foreground);\">https://ola.hallengren.com/sql-server-backup.html</span>"
            ],
            "metadata": {
                "azdata_cell_guid": "1aafd45b-85d2-4e33-838d-28654755c39e"
            },
            "attachments": {}
        },
        {
            "cell_type": "code",
            "source": [
                "EXECUTE [dbo].[DatabaseBackup]\r\n",
                "@Databases = '{sourcedatabasename}',\r\n",
                "@BackupType = 'LOG',\r\n",
                "@Compress='Y',\r\n",
                "@DirectoryStructure = NULL,\r\n",
                "@Url='https://{yourstorageaccountname}.blob.core.windows.net/{containercontainingthisDBFullDiffsLogs}'"
            ],
            "metadata": {
                "azdata_cell_guid": "a186e06d-7007-40b8-b089-80cba7d015a7",
                "language": "sql",
                "tags": []
            },
            "outputs": [],
            "execution_count": null
        },
        {
            "cell_type": "markdown",
            "source": [
                "Check Restore Status of databases being restored to MI. Execiuted against managed instance we are restoring to."
            ],
            "metadata": {
                "azdata_cell_guid": "cb944c03-1b51-4288-88d3-064a18163389"
            },
            "attachments": {}
        },
        {
            "cell_type": "code",
            "source": [
                "select percent_complete,* from sys.dm_exec_requests\r\n",
                "where command like 'Restore Database%'\r\n",
                "\r\n",
                ""
            ],
            "metadata": {
                "azdata_cell_guid": "74b1b422-3f67-4966-be86-154ec138d219",
                "language": "sql",
                "tags": []
            },
            "outputs": [],
            "execution_count": null
        },
        {
            "cell_type": "markdown",
            "source": [
                "Check Seeding Status of databases during cutover of the online migration.  <span style=\"color: var(--vscode-foreground);\">Execiuted against managed instance we are cutting over to.</span>"
            ],
            "metadata": {
                "language": "sql",
                "azdata_cell_guid": "dc54e366-9533-492b-90c6-a75ab4511dea"
            },
            "attachments": {}
        },
        {
            "cell_type": "code",
            "source": [
                "select a.name,b.internal_state_desc,b.start_time_utc,b.estimate_time_complete_utc,* from sys.dm_hadr_physical_seeding_stats b \r\n",
                "join sys.databases a on a.physical_database_name = b.local_database_name\r\n",
                ""
            ],
            "metadata": {
                "language": "sql",
                "azdata_cell_guid": "bb94abe2-2523-4fa8-b64b-1aaf01948f6f",
                "tags": []
            },
            "outputs": [],
            "execution_count": null
        },
        {
            "cell_type": "markdown",
            "source": [
                "Check the 3 replicas percent of sync completion status. <span style=\"color: var(--vscode-foreground);\">Execiuted against managed instance we are cutting over to.</span>"
            ],
            "metadata": {
                "language": "sql",
                "azdata_cell_guid": "95935a35-2e9c-4bc9-b1f4-39c23db7a7d6"
            },
            "attachments": {}
        },
        {
            "cell_type": "code",
            "source": [
                "select percent_complete,* from sys.dm_exec_requests\r\n",
                "where command like 'VDI%' and percent_complete > 0\r\n",
                ""
            ],
            "metadata": {
                "language": "sql",
                "azdata_cell_guid": "3d95b526-5c2e-48c1-be88-210f172e7a3b",
                "tags": []
            },
            "outputs": [],
            "execution_count": null
        },
        {
            "cell_type": "markdown",
            "source": [
                ""
            ],
            "metadata": {
                "language": "sql",
                "azdata_cell_guid": "823fc761-d6b4-48d0-a0f1-19bd8de4727f"
            }
        },
        {
            "cell_type": "markdown",
            "source": [
                ""
            ],
            "metadata": {
                "language": "sql",
                "azdata_cell_guid": "e4dec7b7-eb83-4987-b553-3fd227e6bd4d"
            }
        },
        {
            "cell_type": "markdown",
            "source": [
                ""
            ],
            "metadata": {
                "azdata_cell_guid": "20822513-bb19-43e4-8669-29c01543371f"
            }
        },
        {
            "cell_type": "markdown",
            "source": [
                ""
            ],
            "metadata": {
                "language": "sql",
                "azdata_cell_guid": "32a9c766-4767-4536-ae55-8d13b14911ed"
            }
        },
        {
            "cell_type": "markdown",
            "source": [
                ""
            ],
            "metadata": {
                "language": "sql",
                "azdata_cell_guid": "51d56528-e51e-4a2c-8013-447e8e9c2972"
            }
        },
        {
            "cell_type": "markdown",
            "source": [
                ""
            ],
            "metadata": {
                "language": "sql",
                "azdata_cell_guid": "b420cc8c-6c0d-4019-8510-ecc4d582b47b"
            }
        },
        {
            "cell_type": "markdown",
            "source": [
                ""
            ],
            "metadata": {
                "language": "sql",
                "azdata_cell_guid": "7c3862c5-f5f3-4fef-aaf6-17b4ac0306d5"
            }
        }
    ]
}